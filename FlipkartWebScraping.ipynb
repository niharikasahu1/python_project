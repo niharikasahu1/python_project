{
  "nbformat": 4,
  "nbformat_minor": 0,
  "metadata": {
    "colab": {
      "provenance": []
    },
    "kernelspec": {
      "name": "python3",
      "display_name": "Python 3"
    },
    "language_info": {
      "name": "python"
    }
  },
  "cells": [
    {
      "cell_type": "markdown",
      "source": [
        "## One Method"
      ],
      "metadata": {
        "id": "AsWVSAlkRhca"
      }
    },
    {
      "cell_type": "code",
      "execution_count": null,
      "metadata": {
        "id": "yqgmGW3Xings"
      },
      "outputs": [],
      "source": [
        "# Importing Libraries\n",
        "from urllib.request import urlopen\n",
        "from urllib.error import HTTPError\n",
        "from urllib.error import URLError\n",
        "\n",
        "import requests\n",
        "from bs4 import BeautifulSoup\n",
        "from csv import writer"
      ]
    },
    {
      "cell_type": "code",
      "source": [
        "# Checking the URL if its valid or not\n",
        "try:\n",
        "  html = urlopen(\"https://www.flipkart.com/search?q=apple+phone&sid=tyy%2C4io&as=on&as-show=on&otracker=AS_QueryStore_HistoryAutoSuggest_1_5_na_na_na&otracker1=AS_QueryStore_HistoryAutoSuggest_1_5_na_na_na&as-pos=1&as-type=HISTORY&suggestionId=apple+phone%7CMobiles&requestId=70ac26bd-3ad9-4cf6-933c-132909a1bec9&as-searchtext=apple\")\n",
        "except HTTPError as e:\n",
        "  print(\"HTTP error\")\n",
        "except URLError as e:\n",
        "  print(\"Server not found\")\n",
        "else:\n",
        "  print(\"Sucess\")"
      ],
      "metadata": {
        "colab": {
          "base_uri": "https://localhost:8080/"
        },
        "id": "ILm_jPhCjhLk",
        "outputId": "7edde11b-530d-4759-c892-86e50ca2e6fb"
      },
      "execution_count": null,
      "outputs": [
        {
          "output_type": "stream",
          "name": "stdout",
          "text": [
            "Sucess\n"
          ]
        }
      ]
    },
    {
      "cell_type": "code",
      "source": [
        "# Making soup\n",
        "url = \"https://www.flipkart.com/search?q=apple+phone&sid=tyy%2C4io&as=on&as-show=on&otracker=AS_QueryStore_HistoryAutoSuggest_1_5_na_na_na&otracker1=AS_QueryStore_HistoryAutoSuggest_1_5_na_na_na&as-pos=1&as-type=HISTORY&suggestionId=apple+phone%7CMobiles&requestId=70ac26bd-3ad9-4cf6-933c-132909a1bec9&as-searchtext=apple\"\n",
        "page = requests.get(url)\n",
        "soup = BeautifulSoup(page.content,\"html.parser\")"
      ],
      "metadata": {
        "id": "mndF_LWljhNt"
      },
      "execution_count": null,
      "outputs": []
    },
    {
      "cell_type": "code",
      "source": [
        "print(soup.find(\"title\").text)"
      ],
      "metadata": {
        "colab": {
          "base_uri": "https://localhost:8080/"
        },
        "id": "mNyl5s8QkG-Z",
        "outputId": "4d4ceb5d-12fd-4558-efea-12c9d9871355"
      },
      "execution_count": null,
      "outputs": [
        {
          "output_type": "stream",
          "name": "stdout",
          "text": [
            "Apple Phone- Buy Products Online at Best Price in India - All Categories | Flipkart.com\n"
          ]
        }
      ]
    },
    {
      "cell_type": "code",
      "source": [
        "lists = soup.find_all(\"div\",class_=\"_3pLy-c row\")"
      ],
      "metadata": {
        "id": "8VaQz-yTkHBA"
      },
      "execution_count": null,
      "outputs": []
    },
    {
      "cell_type": "code",
      "source": [
        "for list in lists:\n",
        "  title = list.find(\"div\",class_=\"_4rR01T\").text\n",
        "  rating = list.find(\"div\",class_=\"_3LWZlK\").text\n",
        "  price = list.find(\"div\",class_=\"_30jeq3 _1_WHN1\").text\n",
        "  info = [title,rating,price]\n",
        "  print(info)"
      ],
      "metadata": {
        "colab": {
          "base_uri": "https://localhost:8080/"
        },
        "id": "_7C-zJ-CkHDk",
        "outputId": "337f8fc0-2c07-4e82-eff4-7ce33a71643b"
      },
      "execution_count": null,
      "outputs": [
        {
          "output_type": "stream",
          "name": "stdout",
          "text": [
            "['APPLE iPhone 14 (Midnight, 128 GB)', '4.6', '₹73,990']\n",
            "['APPLE iPhone 14 (Starlight, 128 GB)', '4.6', '₹73,990']\n",
            "['APPLE iPhone 11 (Red, 128 GB)', '4.6', '₹44,999']\n",
            "['APPLE iPhone 13 (Blue, 128 GB)', '4.7', '₹60,999']\n",
            "['APPLE iPhone 14 (Purple, 128 GB)', '4.6', '₹73,990']\n",
            "['APPLE iPhone 14 (Blue, 128 GB)', '4.6', '₹73,990']\n",
            "['APPLE iPhone 13 (Pink, 128 GB)', '4.7', '₹60,999']\n",
            "['APPLE iPhone 13 (Midnight, 128 GB)', '4.7', '₹60,999']\n",
            "['APPLE iPhone 13 (Starlight, 128 GB)', '4.7', '₹60,999']\n",
            "['APPLE iPhone 11 (Black, 128 GB)', '4.6', '₹44,999']\n",
            "['APPLE iPhone 12 mini (Black, 64 GB)', '4.5', '₹37,999']\n",
            "['APPLE iPhone 11 (White, 64 GB)', '4.6', '₹39,999']\n",
            "['APPLE iPhone 14 (Starlight, 256 GB)', '4.6', '₹83,990']\n",
            "['APPLE iPhone 13 ((PRODUCT)RED, 128 GB)', '4.7', '₹60,999']\n",
            "['APPLE iPhone 14 (Midnight, 256 GB)', '4.6', '₹83,990']\n",
            "['APPLE iPhone 11 (Black, 64 GB)', '4.6', '₹39,999']\n",
            "['APPLE iPhone 14 (Blue, 256 GB)', '4.6', '₹83,990']\n",
            "['APPLE iPhone 14 (Purple, 256 GB)', '4.6', '₹83,990']\n",
            "['APPLE iPhone 11 (Red, 64 GB)', '4.6', '₹39,999']\n",
            "['APPLE iPhone 11 (White, 128 GB)', '4.6', '₹44,999']\n",
            "['APPLE iPhone 12 mini (White, 64 GB)', '4.5', '₹38,999']\n",
            "['APPLE iPhone 11 (Purple, 64 GB)', '4.6', '₹39,999']\n",
            "['APPLE iPhone 12 (Purple, 128 GB)', '4.6', '₹57,999']\n",
            "['APPLE iPhone 12 (White, 128 GB)', '4.6', '₹57,999']\n"
          ]
        }
      ]
    },
    {
      "cell_type": "code",
      "source": [
        "with open(\"mobilePrice.csv\",\"w\",encoding=\"utf8\",newline=\"\") as f:\n",
        "  thewriter =writer(f)\n",
        "  header = [\"Title\",\"Ratings\",\"Price\"]\n",
        "  thewriter.writerow(header)\n",
        "\n",
        "  for list in lists:\n",
        "    title = list.find(\"div\",class_=\"_4rR01T\").text\n",
        "    rating = list.find(\"div\",class_=\"_3LWZlK\").text\n",
        "    price = list.find(\"div\",class_=\"_30jeq3 _1_WHN1\").text\n",
        "\n",
        "\n",
        "    info = [title,rating,price]\n",
        "    thewriter.writerow(info)  "
      ],
      "metadata": {
        "id": "s5egNaJmkHGD"
      },
      "execution_count": null,
      "outputs": []
    },
    {
      "cell_type": "code",
      "source": [
        "import pandas as pd\n",
        "\n",
        "df = pd.read_csv(\"/content/mobilePrice.csv\")\n",
        "df"
      ],
      "metadata": {
        "colab": {
          "base_uri": "https://localhost:8080/",
          "height": 802
        },
        "id": "bVba0xA3kHI9",
        "outputId": "4171dfd8-79f1-4eb8-f492-b9195f9d260f"
      },
      "execution_count": null,
      "outputs": [
        {
          "output_type": "execute_result",
          "data": {
            "text/plain": [
              "                                     Title  Ratings    Price\n",
              "0       APPLE iPhone 14 (Midnight, 128 GB)      4.6  ₹73,990\n",
              "1      APPLE iPhone 14 (Starlight, 128 GB)      4.6  ₹73,990\n",
              "2            APPLE iPhone 11 (Red, 128 GB)      4.6  ₹44,999\n",
              "3           APPLE iPhone 13 (Blue, 128 GB)      4.7  ₹60,999\n",
              "4         APPLE iPhone 14 (Purple, 128 GB)      4.6  ₹73,990\n",
              "5           APPLE iPhone 14 (Blue, 128 GB)      4.6  ₹73,990\n",
              "6           APPLE iPhone 13 (Pink, 128 GB)      4.7  ₹60,999\n",
              "7       APPLE iPhone 13 (Midnight, 128 GB)      4.7  ₹60,999\n",
              "8      APPLE iPhone 13 (Starlight, 128 GB)      4.7  ₹60,999\n",
              "9          APPLE iPhone 11 (Black, 128 GB)      4.6  ₹44,999\n",
              "10     APPLE iPhone 12 mini (Black, 64 GB)      4.5  ₹37,999\n",
              "11          APPLE iPhone 11 (White, 64 GB)      4.6  ₹39,999\n",
              "12     APPLE iPhone 14 (Starlight, 256 GB)      4.6  ₹83,990\n",
              "13  APPLE iPhone 13 ((PRODUCT)RED, 128 GB)      4.7  ₹60,999\n",
              "14      APPLE iPhone 14 (Midnight, 256 GB)      4.6  ₹83,990\n",
              "15          APPLE iPhone 11 (Black, 64 GB)      4.6  ₹39,999\n",
              "16          APPLE iPhone 14 (Blue, 256 GB)      4.6  ₹83,990\n",
              "17        APPLE iPhone 14 (Purple, 256 GB)      4.6  ₹83,990\n",
              "18            APPLE iPhone 11 (Red, 64 GB)      4.6  ₹39,999\n",
              "19         APPLE iPhone 11 (White, 128 GB)      4.6  ₹44,999\n",
              "20     APPLE iPhone 12 mini (White, 64 GB)      4.5  ₹38,999\n",
              "21         APPLE iPhone 11 (Purple, 64 GB)      4.6  ₹39,999\n",
              "22        APPLE iPhone 12 (Purple, 128 GB)      4.6  ₹57,999\n",
              "23         APPLE iPhone 12 (White, 128 GB)      4.6  ₹57,999"
            ],
            "text/html": [
              "\n",
              "  <div id=\"df-76e74bc9-c49e-4693-86dc-41d0714ddd9c\">\n",
              "    <div class=\"colab-df-container\">\n",
              "      <div>\n",
              "<style scoped>\n",
              "    .dataframe tbody tr th:only-of-type {\n",
              "        vertical-align: middle;\n",
              "    }\n",
              "\n",
              "    .dataframe tbody tr th {\n",
              "        vertical-align: top;\n",
              "    }\n",
              "\n",
              "    .dataframe thead th {\n",
              "        text-align: right;\n",
              "    }\n",
              "</style>\n",
              "<table border=\"1\" class=\"dataframe\">\n",
              "  <thead>\n",
              "    <tr style=\"text-align: right;\">\n",
              "      <th></th>\n",
              "      <th>Title</th>\n",
              "      <th>Ratings</th>\n",
              "      <th>Price</th>\n",
              "    </tr>\n",
              "  </thead>\n",
              "  <tbody>\n",
              "    <tr>\n",
              "      <th>0</th>\n",
              "      <td>APPLE iPhone 14 (Midnight, 128 GB)</td>\n",
              "      <td>4.6</td>\n",
              "      <td>₹73,990</td>\n",
              "    </tr>\n",
              "    <tr>\n",
              "      <th>1</th>\n",
              "      <td>APPLE iPhone 14 (Starlight, 128 GB)</td>\n",
              "      <td>4.6</td>\n",
              "      <td>₹73,990</td>\n",
              "    </tr>\n",
              "    <tr>\n",
              "      <th>2</th>\n",
              "      <td>APPLE iPhone 11 (Red, 128 GB)</td>\n",
              "      <td>4.6</td>\n",
              "      <td>₹44,999</td>\n",
              "    </tr>\n",
              "    <tr>\n",
              "      <th>3</th>\n",
              "      <td>APPLE iPhone 13 (Blue, 128 GB)</td>\n",
              "      <td>4.7</td>\n",
              "      <td>₹60,999</td>\n",
              "    </tr>\n",
              "    <tr>\n",
              "      <th>4</th>\n",
              "      <td>APPLE iPhone 14 (Purple, 128 GB)</td>\n",
              "      <td>4.6</td>\n",
              "      <td>₹73,990</td>\n",
              "    </tr>\n",
              "    <tr>\n",
              "      <th>5</th>\n",
              "      <td>APPLE iPhone 14 (Blue, 128 GB)</td>\n",
              "      <td>4.6</td>\n",
              "      <td>₹73,990</td>\n",
              "    </tr>\n",
              "    <tr>\n",
              "      <th>6</th>\n",
              "      <td>APPLE iPhone 13 (Pink, 128 GB)</td>\n",
              "      <td>4.7</td>\n",
              "      <td>₹60,999</td>\n",
              "    </tr>\n",
              "    <tr>\n",
              "      <th>7</th>\n",
              "      <td>APPLE iPhone 13 (Midnight, 128 GB)</td>\n",
              "      <td>4.7</td>\n",
              "      <td>₹60,999</td>\n",
              "    </tr>\n",
              "    <tr>\n",
              "      <th>8</th>\n",
              "      <td>APPLE iPhone 13 (Starlight, 128 GB)</td>\n",
              "      <td>4.7</td>\n",
              "      <td>₹60,999</td>\n",
              "    </tr>\n",
              "    <tr>\n",
              "      <th>9</th>\n",
              "      <td>APPLE iPhone 11 (Black, 128 GB)</td>\n",
              "      <td>4.6</td>\n",
              "      <td>₹44,999</td>\n",
              "    </tr>\n",
              "    <tr>\n",
              "      <th>10</th>\n",
              "      <td>APPLE iPhone 12 mini (Black, 64 GB)</td>\n",
              "      <td>4.5</td>\n",
              "      <td>₹37,999</td>\n",
              "    </tr>\n",
              "    <tr>\n",
              "      <th>11</th>\n",
              "      <td>APPLE iPhone 11 (White, 64 GB)</td>\n",
              "      <td>4.6</td>\n",
              "      <td>₹39,999</td>\n",
              "    </tr>\n",
              "    <tr>\n",
              "      <th>12</th>\n",
              "      <td>APPLE iPhone 14 (Starlight, 256 GB)</td>\n",
              "      <td>4.6</td>\n",
              "      <td>₹83,990</td>\n",
              "    </tr>\n",
              "    <tr>\n",
              "      <th>13</th>\n",
              "      <td>APPLE iPhone 13 ((PRODUCT)RED, 128 GB)</td>\n",
              "      <td>4.7</td>\n",
              "      <td>₹60,999</td>\n",
              "    </tr>\n",
              "    <tr>\n",
              "      <th>14</th>\n",
              "      <td>APPLE iPhone 14 (Midnight, 256 GB)</td>\n",
              "      <td>4.6</td>\n",
              "      <td>₹83,990</td>\n",
              "    </tr>\n",
              "    <tr>\n",
              "      <th>15</th>\n",
              "      <td>APPLE iPhone 11 (Black, 64 GB)</td>\n",
              "      <td>4.6</td>\n",
              "      <td>₹39,999</td>\n",
              "    </tr>\n",
              "    <tr>\n",
              "      <th>16</th>\n",
              "      <td>APPLE iPhone 14 (Blue, 256 GB)</td>\n",
              "      <td>4.6</td>\n",
              "      <td>₹83,990</td>\n",
              "    </tr>\n",
              "    <tr>\n",
              "      <th>17</th>\n",
              "      <td>APPLE iPhone 14 (Purple, 256 GB)</td>\n",
              "      <td>4.6</td>\n",
              "      <td>₹83,990</td>\n",
              "    </tr>\n",
              "    <tr>\n",
              "      <th>18</th>\n",
              "      <td>APPLE iPhone 11 (Red, 64 GB)</td>\n",
              "      <td>4.6</td>\n",
              "      <td>₹39,999</td>\n",
              "    </tr>\n",
              "    <tr>\n",
              "      <th>19</th>\n",
              "      <td>APPLE iPhone 11 (White, 128 GB)</td>\n",
              "      <td>4.6</td>\n",
              "      <td>₹44,999</td>\n",
              "    </tr>\n",
              "    <tr>\n",
              "      <th>20</th>\n",
              "      <td>APPLE iPhone 12 mini (White, 64 GB)</td>\n",
              "      <td>4.5</td>\n",
              "      <td>₹38,999</td>\n",
              "    </tr>\n",
              "    <tr>\n",
              "      <th>21</th>\n",
              "      <td>APPLE iPhone 11 (Purple, 64 GB)</td>\n",
              "      <td>4.6</td>\n",
              "      <td>₹39,999</td>\n",
              "    </tr>\n",
              "    <tr>\n",
              "      <th>22</th>\n",
              "      <td>APPLE iPhone 12 (Purple, 128 GB)</td>\n",
              "      <td>4.6</td>\n",
              "      <td>₹57,999</td>\n",
              "    </tr>\n",
              "    <tr>\n",
              "      <th>23</th>\n",
              "      <td>APPLE iPhone 12 (White, 128 GB)</td>\n",
              "      <td>4.6</td>\n",
              "      <td>₹57,999</td>\n",
              "    </tr>\n",
              "  </tbody>\n",
              "</table>\n",
              "</div>\n",
              "      <button class=\"colab-df-convert\" onclick=\"convertToInteractive('df-76e74bc9-c49e-4693-86dc-41d0714ddd9c')\"\n",
              "              title=\"Convert this dataframe to an interactive table.\"\n",
              "              style=\"display:none;\">\n",
              "        \n",
              "  <svg xmlns=\"http://www.w3.org/2000/svg\" height=\"24px\"viewBox=\"0 0 24 24\"\n",
              "       width=\"24px\">\n",
              "    <path d=\"M0 0h24v24H0V0z\" fill=\"none\"/>\n",
              "    <path d=\"M18.56 5.44l.94 2.06.94-2.06 2.06-.94-2.06-.94-.94-2.06-.94 2.06-2.06.94zm-11 1L8.5 8.5l.94-2.06 2.06-.94-2.06-.94L8.5 2.5l-.94 2.06-2.06.94zm10 10l.94 2.06.94-2.06 2.06-.94-2.06-.94-.94-2.06-.94 2.06-2.06.94z\"/><path d=\"M17.41 7.96l-1.37-1.37c-.4-.4-.92-.59-1.43-.59-.52 0-1.04.2-1.43.59L10.3 9.45l-7.72 7.72c-.78.78-.78 2.05 0 2.83L4 21.41c.39.39.9.59 1.41.59.51 0 1.02-.2 1.41-.59l7.78-7.78 2.81-2.81c.8-.78.8-2.07 0-2.86zM5.41 20L4 18.59l7.72-7.72 1.47 1.35L5.41 20z\"/>\n",
              "  </svg>\n",
              "      </button>\n",
              "      \n",
              "  <style>\n",
              "    .colab-df-container {\n",
              "      display:flex;\n",
              "      flex-wrap:wrap;\n",
              "      gap: 12px;\n",
              "    }\n",
              "\n",
              "    .colab-df-convert {\n",
              "      background-color: #E8F0FE;\n",
              "      border: none;\n",
              "      border-radius: 50%;\n",
              "      cursor: pointer;\n",
              "      display: none;\n",
              "      fill: #1967D2;\n",
              "      height: 32px;\n",
              "      padding: 0 0 0 0;\n",
              "      width: 32px;\n",
              "    }\n",
              "\n",
              "    .colab-df-convert:hover {\n",
              "      background-color: #E2EBFA;\n",
              "      box-shadow: 0px 1px 2px rgba(60, 64, 67, 0.3), 0px 1px 3px 1px rgba(60, 64, 67, 0.15);\n",
              "      fill: #174EA6;\n",
              "    }\n",
              "\n",
              "    [theme=dark] .colab-df-convert {\n",
              "      background-color: #3B4455;\n",
              "      fill: #D2E3FC;\n",
              "    }\n",
              "\n",
              "    [theme=dark] .colab-df-convert:hover {\n",
              "      background-color: #434B5C;\n",
              "      box-shadow: 0px 1px 3px 1px rgba(0, 0, 0, 0.15);\n",
              "      filter: drop-shadow(0px 1px 2px rgba(0, 0, 0, 0.3));\n",
              "      fill: #FFFFFF;\n",
              "    }\n",
              "  </style>\n",
              "\n",
              "      <script>\n",
              "        const buttonEl =\n",
              "          document.querySelector('#df-76e74bc9-c49e-4693-86dc-41d0714ddd9c button.colab-df-convert');\n",
              "        buttonEl.style.display =\n",
              "          google.colab.kernel.accessAllowed ? 'block' : 'none';\n",
              "\n",
              "        async function convertToInteractive(key) {\n",
              "          const element = document.querySelector('#df-76e74bc9-c49e-4693-86dc-41d0714ddd9c');\n",
              "          const dataTable =\n",
              "            await google.colab.kernel.invokeFunction('convertToInteractive',\n",
              "                                                     [key], {});\n",
              "          if (!dataTable) return;\n",
              "\n",
              "          const docLinkHtml = 'Like what you see? Visit the ' +\n",
              "            '<a target=\"_blank\" href=https://colab.research.google.com/notebooks/data_table.ipynb>data table notebook</a>'\n",
              "            + ' to learn more about interactive tables.';\n",
              "          element.innerHTML = '';\n",
              "          dataTable['output_type'] = 'display_data';\n",
              "          await google.colab.output.renderOutput(dataTable, element);\n",
              "          const docLink = document.createElement('div');\n",
              "          docLink.innerHTML = docLinkHtml;\n",
              "          element.appendChild(docLink);\n",
              "        }\n",
              "      </script>\n",
              "    </div>\n",
              "  </div>\n",
              "  "
            ]
          },
          "metadata": {},
          "execution_count": 37
        }
      ]
    },
    {
      "cell_type": "markdown",
      "source": [
        "## Second Method"
      ],
      "metadata": {
        "id": "mBS3PUDyRtFv"
      }
    },
    {
      "cell_type": "code",
      "source": [
        "from urllib.request import urlopen\n",
        "from urllib.error import HTTPError\n",
        "from urllib.error import URLError\n",
        "\n",
        "import requests\n",
        "from bs4 import BeautifulSoup\n",
        "import pandas as pd"
      ],
      "metadata": {
        "id": "b5G673Ue8UOA"
      },
      "execution_count": null,
      "outputs": []
    },
    {
      "cell_type": "code",
      "source": [
        "# Checking the URL if its valid or not\n",
        "try:\n",
        "  html = urlopen(\"https://www.flipkart.com/search?q=apple+phone&sid=tyy%2C4io&as=on&as-show=on&otracker=AS_QueryStore_HistoryAutoSuggest_1_5_na_na_na&otracker1=AS_QueryStore_HistoryAutoSuggest_1_5_na_na_na&as-pos=1&as-type=HISTORY&suggestionId=apple+phone%7CMobiles&requestId=70ac26bd-3ad9-4cf6-933c-132909a1bec9&as-searchtext=apple\")\n",
        "except HTTPError as e:\n",
        "  print(\"HTTP error\")\n",
        "except URLError as e:\n",
        "  print(\"Server not found\")\n",
        "else:\n",
        "  print(\"Sucess\")"
      ],
      "metadata": {
        "id": "VKa1YpBx8Z8-",
        "colab": {
          "base_uri": "https://localhost:8080/"
        },
        "outputId": "2d7428b6-b7fe-49d6-85e7-1318a210e4bc"
      },
      "execution_count": null,
      "outputs": [
        {
          "output_type": "stream",
          "name": "stdout",
          "text": [
            "Sucess\n"
          ]
        }
      ]
    },
    {
      "cell_type": "code",
      "source": [
        "iphone = []\n",
        "for i in range(1,19):\n",
        "  url = f\"https://www.flipkart.com/search?q=apple+phone&sid=tyy%2C4io&as=on&as-show=on&otracker=AS_QueryStore_HistoryAutoSuggest_1_5_na_na_na&otracker1=AS_QueryStore_HistoryAutoSuggest_1_5_na_na_na&as-pos=1&as-type=HISTORY&suggestionId=apple+phone%7CMobiles&requestId=70ac26bd-3ad9-4cf6-933c-132909a1bec9&as-searchtext=apple%pages={i}\"\n",
        "  response = requests.get(url)\n",
        "  response = response.content\n",
        "  soup = BeautifulSoup(response,\"html.parser\")\n",
        "  lists = soup.find_all(\"div\",class_=\"_3pLy-c row\")\n",
        "\n",
        "  for lst in lists:\n",
        "    title = lst.find(\"div\",class_=\"_4rR01T\").text\n",
        "    rating = lst.find(\"div\",class_=\"_3LWZlK\").text\n",
        "    price = lst.find(\"div\",class_=\"_30jeq3 _1_WHN1\").text\n",
        "    iphone.append([title,rating,price])"
      ],
      "metadata": {
        "id": "3hxywlr88UVw"
      },
      "execution_count": null,
      "outputs": []
    },
    {
      "cell_type": "code",
      "source": [
        "df = pd.DataFrame(iphone,columns=[\"Title\",\"Ratings\",\"Price\"])\n",
        "df.to_csv(\"iphoneList.csv\")"
      ],
      "metadata": {
        "id": "f1NPv6UB8UYW"
      },
      "execution_count": null,
      "outputs": []
    },
    {
      "cell_type": "code",
      "source": [
        "data = pd.read_csv(\"/content/iphoneList.csv\")\n",
        "len(data)"
      ],
      "metadata": {
        "id": "2XJBuExZ8Ua_",
        "colab": {
          "base_uri": "https://localhost:8080/"
        },
        "outputId": "a3678d53-ae02-4230-a0e7-906da331a4d1"
      },
      "execution_count": null,
      "outputs": [
        {
          "output_type": "execute_result",
          "data": {
            "text/plain": [
              "432"
            ]
          },
          "metadata": {},
          "execution_count": 6
        }
      ]
    },
    {
      "cell_type": "code",
      "source": [
        "data"
      ],
      "metadata": {
        "id": "rxHDlPRV8Udb",
        "colab": {
          "base_uri": "https://localhost:8080/",
          "height": 424
        },
        "outputId": "92b7bfb1-e900-4f17-f131-af5617d3bd78"
      },
      "execution_count": null,
      "outputs": [
        {
          "output_type": "execute_result",
          "data": {
            "text/plain": [
              "     Unnamed: 0                                     Title  Ratings    Price\n",
              "0             0          APPLE iPhone 14 (Purple, 128 GB)      4.6  ₹73,990\n",
              "1             1        APPLE iPhone 14 (Midnight, 128 GB)      4.6  ₹73,990\n",
              "2             2            APPLE iPhone 14 (Blue, 128 GB)      4.6  ₹73,990\n",
              "3             3       APPLE iPhone 14 (Starlight, 128 GB)      4.6  ₹73,990\n",
              "4             4  APPLE iPhone 14 Plus (Starlight, 128 GB)      4.6  ₹82,999\n",
              "..          ...                                       ...      ...      ...\n",
              "427         427    APPLE iPhone 14 ((PRODUCT)RED, 128 GB)      4.6  ₹73,990\n",
              "428         428        APPLE iPhone 14 (Midnight, 256 GB)      4.6  ₹83,990\n",
              "429         429  APPLE iPhone 14 Plus (Starlight, 256 GB)      4.6  ₹92,999\n",
              "430         430       APPLE iPhone 14 Plus (Blue, 256 GB)      4.6  ₹92,999\n",
              "431         431              APPLE iPhone 11 (Red, 64 GB)      4.6  ₹43,900\n",
              "\n",
              "[432 rows x 4 columns]"
            ],
            "text/html": [
              "\n",
              "  <div id=\"df-0fdf8843-a971-4c71-877d-63044e1fbd77\">\n",
              "    <div class=\"colab-df-container\">\n",
              "      <div>\n",
              "<style scoped>\n",
              "    .dataframe tbody tr th:only-of-type {\n",
              "        vertical-align: middle;\n",
              "    }\n",
              "\n",
              "    .dataframe tbody tr th {\n",
              "        vertical-align: top;\n",
              "    }\n",
              "\n",
              "    .dataframe thead th {\n",
              "        text-align: right;\n",
              "    }\n",
              "</style>\n",
              "<table border=\"1\" class=\"dataframe\">\n",
              "  <thead>\n",
              "    <tr style=\"text-align: right;\">\n",
              "      <th></th>\n",
              "      <th>Unnamed: 0</th>\n",
              "      <th>Title</th>\n",
              "      <th>Ratings</th>\n",
              "      <th>Price</th>\n",
              "    </tr>\n",
              "  </thead>\n",
              "  <tbody>\n",
              "    <tr>\n",
              "      <th>0</th>\n",
              "      <td>0</td>\n",
              "      <td>APPLE iPhone 14 (Purple, 128 GB)</td>\n",
              "      <td>4.6</td>\n",
              "      <td>₹73,990</td>\n",
              "    </tr>\n",
              "    <tr>\n",
              "      <th>1</th>\n",
              "      <td>1</td>\n",
              "      <td>APPLE iPhone 14 (Midnight, 128 GB)</td>\n",
              "      <td>4.6</td>\n",
              "      <td>₹73,990</td>\n",
              "    </tr>\n",
              "    <tr>\n",
              "      <th>2</th>\n",
              "      <td>2</td>\n",
              "      <td>APPLE iPhone 14 (Blue, 128 GB)</td>\n",
              "      <td>4.6</td>\n",
              "      <td>₹73,990</td>\n",
              "    </tr>\n",
              "    <tr>\n",
              "      <th>3</th>\n",
              "      <td>3</td>\n",
              "      <td>APPLE iPhone 14 (Starlight, 128 GB)</td>\n",
              "      <td>4.6</td>\n",
              "      <td>₹73,990</td>\n",
              "    </tr>\n",
              "    <tr>\n",
              "      <th>4</th>\n",
              "      <td>4</td>\n",
              "      <td>APPLE iPhone 14 Plus (Starlight, 128 GB)</td>\n",
              "      <td>4.6</td>\n",
              "      <td>₹82,999</td>\n",
              "    </tr>\n",
              "    <tr>\n",
              "      <th>...</th>\n",
              "      <td>...</td>\n",
              "      <td>...</td>\n",
              "      <td>...</td>\n",
              "      <td>...</td>\n",
              "    </tr>\n",
              "    <tr>\n",
              "      <th>427</th>\n",
              "      <td>427</td>\n",
              "      <td>APPLE iPhone 14 ((PRODUCT)RED, 128 GB)</td>\n",
              "      <td>4.6</td>\n",
              "      <td>₹73,990</td>\n",
              "    </tr>\n",
              "    <tr>\n",
              "      <th>428</th>\n",
              "      <td>428</td>\n",
              "      <td>APPLE iPhone 14 (Midnight, 256 GB)</td>\n",
              "      <td>4.6</td>\n",
              "      <td>₹83,990</td>\n",
              "    </tr>\n",
              "    <tr>\n",
              "      <th>429</th>\n",
              "      <td>429</td>\n",
              "      <td>APPLE iPhone 14 Plus (Starlight, 256 GB)</td>\n",
              "      <td>4.6</td>\n",
              "      <td>₹92,999</td>\n",
              "    </tr>\n",
              "    <tr>\n",
              "      <th>430</th>\n",
              "      <td>430</td>\n",
              "      <td>APPLE iPhone 14 Plus (Blue, 256 GB)</td>\n",
              "      <td>4.6</td>\n",
              "      <td>₹92,999</td>\n",
              "    </tr>\n",
              "    <tr>\n",
              "      <th>431</th>\n",
              "      <td>431</td>\n",
              "      <td>APPLE iPhone 11 (Red, 64 GB)</td>\n",
              "      <td>4.6</td>\n",
              "      <td>₹43,900</td>\n",
              "    </tr>\n",
              "  </tbody>\n",
              "</table>\n",
              "<p>432 rows × 4 columns</p>\n",
              "</div>\n",
              "      <button class=\"colab-df-convert\" onclick=\"convertToInteractive('df-0fdf8843-a971-4c71-877d-63044e1fbd77')\"\n",
              "              title=\"Convert this dataframe to an interactive table.\"\n",
              "              style=\"display:none;\">\n",
              "        \n",
              "  <svg xmlns=\"http://www.w3.org/2000/svg\" height=\"24px\"viewBox=\"0 0 24 24\"\n",
              "       width=\"24px\">\n",
              "    <path d=\"M0 0h24v24H0V0z\" fill=\"none\"/>\n",
              "    <path d=\"M18.56 5.44l.94 2.06.94-2.06 2.06-.94-2.06-.94-.94-2.06-.94 2.06-2.06.94zm-11 1L8.5 8.5l.94-2.06 2.06-.94-2.06-.94L8.5 2.5l-.94 2.06-2.06.94zm10 10l.94 2.06.94-2.06 2.06-.94-2.06-.94-.94-2.06-.94 2.06-2.06.94z\"/><path d=\"M17.41 7.96l-1.37-1.37c-.4-.4-.92-.59-1.43-.59-.52 0-1.04.2-1.43.59L10.3 9.45l-7.72 7.72c-.78.78-.78 2.05 0 2.83L4 21.41c.39.39.9.59 1.41.59.51 0 1.02-.2 1.41-.59l7.78-7.78 2.81-2.81c.8-.78.8-2.07 0-2.86zM5.41 20L4 18.59l7.72-7.72 1.47 1.35L5.41 20z\"/>\n",
              "  </svg>\n",
              "      </button>\n",
              "      \n",
              "  <style>\n",
              "    .colab-df-container {\n",
              "      display:flex;\n",
              "      flex-wrap:wrap;\n",
              "      gap: 12px;\n",
              "    }\n",
              "\n",
              "    .colab-df-convert {\n",
              "      background-color: #E8F0FE;\n",
              "      border: none;\n",
              "      border-radius: 50%;\n",
              "      cursor: pointer;\n",
              "      display: none;\n",
              "      fill: #1967D2;\n",
              "      height: 32px;\n",
              "      padding: 0 0 0 0;\n",
              "      width: 32px;\n",
              "    }\n",
              "\n",
              "    .colab-df-convert:hover {\n",
              "      background-color: #E2EBFA;\n",
              "      box-shadow: 0px 1px 2px rgba(60, 64, 67, 0.3), 0px 1px 3px 1px rgba(60, 64, 67, 0.15);\n",
              "      fill: #174EA6;\n",
              "    }\n",
              "\n",
              "    [theme=dark] .colab-df-convert {\n",
              "      background-color: #3B4455;\n",
              "      fill: #D2E3FC;\n",
              "    }\n",
              "\n",
              "    [theme=dark] .colab-df-convert:hover {\n",
              "      background-color: #434B5C;\n",
              "      box-shadow: 0px 1px 3px 1px rgba(0, 0, 0, 0.15);\n",
              "      filter: drop-shadow(0px 1px 2px rgba(0, 0, 0, 0.3));\n",
              "      fill: #FFFFFF;\n",
              "    }\n",
              "  </style>\n",
              "\n",
              "      <script>\n",
              "        const buttonEl =\n",
              "          document.querySelector('#df-0fdf8843-a971-4c71-877d-63044e1fbd77 button.colab-df-convert');\n",
              "        buttonEl.style.display =\n",
              "          google.colab.kernel.accessAllowed ? 'block' : 'none';\n",
              "\n",
              "        async function convertToInteractive(key) {\n",
              "          const element = document.querySelector('#df-0fdf8843-a971-4c71-877d-63044e1fbd77');\n",
              "          const dataTable =\n",
              "            await google.colab.kernel.invokeFunction('convertToInteractive',\n",
              "                                                     [key], {});\n",
              "          if (!dataTable) return;\n",
              "\n",
              "          const docLinkHtml = 'Like what you see? Visit the ' +\n",
              "            '<a target=\"_blank\" href=https://colab.research.google.com/notebooks/data_table.ipynb>data table notebook</a>'\n",
              "            + ' to learn more about interactive tables.';\n",
              "          element.innerHTML = '';\n",
              "          dataTable['output_type'] = 'display_data';\n",
              "          await google.colab.output.renderOutput(dataTable, element);\n",
              "          const docLink = document.createElement('div');\n",
              "          docLink.innerHTML = docLinkHtml;\n",
              "          element.appendChild(docLink);\n",
              "        }\n",
              "      </script>\n",
              "    </div>\n",
              "  </div>\n",
              "  "
            ]
          },
          "metadata": {},
          "execution_count": 7
        }
      ]
    },
    {
      "cell_type": "code",
      "source": [],
      "metadata": {
        "id": "gnt9mwRV8UgK"
      },
      "execution_count": null,
      "outputs": []
    },
    {
      "cell_type": "code",
      "source": [],
      "metadata": {
        "id": "Jw45qy7n8Uiw"
      },
      "execution_count": null,
      "outputs": []
    },
    {
      "cell_type": "code",
      "source": [],
      "metadata": {
        "id": "x2sth0bi8UmO"
      },
      "execution_count": null,
      "outputs": []
    }
  ]
}